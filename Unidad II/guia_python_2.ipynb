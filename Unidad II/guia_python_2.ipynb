{
 "cells": [
  {
   "attachments": {},
   "cell_type": "markdown",
   "metadata": {},
   "source": [
    "\n",
    "* Esta guía contiene funciones básicas que se pueden realizar en lenguaje de programación Python"
   ]
  },
  {
   "cell_type": "markdown",
   "metadata": {},
   "source": [
    "# if"
   ]
  },
  {
   "cell_type": "code",
   "execution_count": null,
   "metadata": {},
   "outputs": [],
   "source": [
    "edad = int(input(\"Ingrese su edad: \"))\n",
    "\n",
    "if edad >= 18:\n",
    "    print(\"Eres mayor de edad.\")\n",
    "else:\n",
    "    print(\"Eres menor de edad.\")"
   ]
  },
  {
   "cell_type": "code",
   "execution_count": null,
   "metadata": {},
   "outputs": [],
   "source": [
    "calificacion = int(input(\"Ingrese su calificación (0-100): \"))\n",
    "\n",
    "if calificacion >= 90 and calificacion <= 100:\n",
    "    print(\"Excelente\")\n",
    "elif calificacion >= 70:\n",
    "    print(\"Aprobado\")\n",
    "elif calificacion >= 50:\n",
    "    print(\"Regular\")\n",
    "elif calificacion >= 0:\n",
    "    print(\"Reprobado\")\n",
    "else:\n",
    "    print(\"Error: La calificación debe estar entre 0 y 100.\")\n"
   ]
  },
  {
   "cell_type": "markdown",
   "metadata": {},
   "source": [
    "# for"
   ]
  },
  {
   "cell_type": "code",
   "execution_count": null,
   "metadata": {},
   "outputs": [],
   "source": [
    "numero = int(input(\"Ingrese un número: \"))\n",
    "\n",
    "for i in range(1, 11):\n",
    "    print(f\"{numero} x {i} = {numero * i}\")"
   ]
  },
  {
   "cell_type": "markdown",
   "metadata": {},
   "source": [
    "# while"
   ]
  },
  {
   "cell_type": "code",
   "execution_count": null,
   "metadata": {},
   "outputs": [],
   "source": [
    "while True:\n",
    "    numero = int(input(\"Ingrese un número (negativo para salir): \"))\n",
    "    if numero < 0:\n",
    "        print(\"¡Programa finalizado!\")\n",
    "        break"
   ]
  },
  {
   "cell_type": "markdown",
   "metadata": {},
   "source": [
    "# Funciones básicas"
   ]
  },
  {
   "cell_type": "code",
   "execution_count": null,
   "metadata": {},
   "outputs": [],
   "source": [
    "def saludo():\n",
    "    print(\"¡Hola! Bienvenidos al Bootcamp de Ciencia de Datos & IA de la UDD.\")\n",
    "\n",
    "saludo() "
   ]
  },
  {
   "cell_type": "code",
   "execution_count": null,
   "metadata": {},
   "outputs": [],
   "source": [
    "def saludar(nombre):\n",
    "    print(f\"Hola, {nombre}, bienvenido a la clase.\")\n",
    "\n",
    "saludar(\"Carlos\")\n",
    "saludar(\"Ana\")"
   ]
  },
  {
   "cell_type": "code",
   "execution_count": null,
   "metadata": {},
   "outputs": [],
   "source": [
    "def sumar(a, b):\n",
    "    resultado = a + b\n",
    "    print(f\"La suma de {a} + {b} es: {resultado}\")\n",
    "\n",
    "sumar(5, 3)\n",
    "sumar(10, 7)"
   ]
  },
  {
   "cell_type": "code",
   "execution_count": null,
   "metadata": {},
   "outputs": [],
   "source": [
    "def multiplicar(a, b):\n",
    "    resultado = a * b\n",
    "    print(f\"La multiplicacion de {a} * {b} es: {resultado}\")\n",
    "\n",
    "multiplicar(5, 3)\n",
    "multiplicar(10, 7)"
   ]
  },
  {
   "cell_type": "code",
   "execution_count": 1,
   "metadata": {},
   "outputs": [
    {
     "name": "stdout",
     "output_type": "stream",
     "text": [
      "Ingrese su nombre: diego\n",
      "Hola, diego, ¡bienvenido!\n"
     ]
    }
   ],
   "source": [
    "def saludar():\n",
    "    nombre = input(\"Ingrese su nombre: \")\n",
    "    print(f\"Hola, {nombre}, ¡bienvenido!\")\n",
    "\n",
    "saludar()"
   ]
  },
  {
   "cell_type": "code",
   "execution_count": 2,
   "metadata": {},
   "outputs": [
    {
     "name": "stdout",
     "output_type": "stream",
     "text": [
      "Ingrese el primer número: 1\n",
      "Ingrese el segundo número: 2\n",
      "La suma de 1.0 y 2.0 es 3.0\n"
     ]
    }
   ],
   "source": [
    "def sumar():\n",
    "    num1 = float(input(\"Ingrese el primer número: \"))\n",
    "    num2 = float(input(\"Ingrese el segundo número: \"))\n",
    "    resultado = num1 + num2\n",
    "    print(f\"La suma de {num1} y {num2} es: {resultado}\")\n",
    "\n",
    "sumar()"
   ]
  }
 ],
 "metadata": {
  "kernelspec": {
   "display_name": "Python 3 (ipykernel)",
   "language": "python",
   "name": "python3"
  },
  "language_info": {
   "codemirror_mode": {
    "name": "ipython",
    "version": 3
   },
   "file_extension": ".py",
   "mimetype": "text/x-python",
   "name": "python",
   "nbconvert_exporter": "python",
   "pygments_lexer": "ipython3",
   "version": "3.11.4"
  }
 },
 "nbformat": 4,
 "nbformat_minor": 4
}
