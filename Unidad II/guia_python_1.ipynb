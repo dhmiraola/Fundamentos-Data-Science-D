{
 "cells": [
  {
   "attachments": {},
   "cell_type": "markdown",
   "metadata": {},
   "source": [
    "# Guía de programación básica en Python\n",
    "\n",
    "## Docente: Diego Miranda Olavarría\n",
    "#### Data Scientist\n",
    "\n",
    "* Esta guía contiene operaciones básicas que se pueden realizar en lenguaje de programación Python"
   ]
  },
  {
   "cell_type": "markdown",
   "metadata": {},
   "source": [
    "# Operaciones básicas"
   ]
  },
  {
   "cell_type": "markdown",
   "metadata": {},
   "source": [
    "### Este es un markdown, sirve para escribir, por ejemplo títulos\n",
    "### \" Este es el título\""
   ]
  },
  {
   "cell_type": "code",
   "execution_count": null,
   "metadata": {},
   "outputs": [],
   "source": [
    "# este símbolo sirve para dejar comentarios"
   ]
  },
  {
   "cell_type": "markdown",
   "metadata": {},
   "source": [
    "### Operaciones matemáticas"
   ]
  },
  {
   "cell_type": "code",
   "execution_count": null,
   "metadata": {},
   "outputs": [],
   "source": [
    "# suma de dos o más números\n",
    "3+2+3"
   ]
  },
  {
   "cell_type": "code",
   "execution_count": null,
   "metadata": {},
   "outputs": [],
   "source": [
    "# resta de dos o más números\n",
    "8-2-3"
   ]
  },
  {
   "cell_type": "code",
   "execution_count": null,
   "metadata": {},
   "outputs": [],
   "source": [
    "# Mulpiplicación\n",
    "3*3*2"
   ]
  },
  {
   "cell_type": "code",
   "execution_count": null,
   "metadata": {},
   "outputs": [],
   "source": [
    "# División\n",
    "3/2/1"
   ]
  },
  {
   "cell_type": "code",
   "execution_count": null,
   "metadata": {},
   "outputs": [],
   "source": [
    "# Potencia\n",
    "3**2"
   ]
  },
  {
   "cell_type": "code",
   "execution_count": null,
   "metadata": {},
   "outputs": [],
   "source": [
    "3**3"
   ]
  },
  {
   "cell_type": "code",
   "execution_count": null,
   "metadata": {},
   "outputs": [],
   "source": [
    "# Operacion compleja <----- tener en cuenta que la mutiplicación tiene prioridad antes que la suma o la resta\n",
    "3-2+4*10"
   ]
  },
  {
   "cell_type": "code",
   "execution_count": null,
   "metadata": {},
   "outputs": [],
   "source": [
    "(3-2+4)*10"
   ]
  },
  {
   "cell_type": "code",
   "execution_count": null,
   "metadata": {},
   "outputs": [],
   "source": [
    "# Asignación de un valor a una variable\n",
    "n = 3\n",
    "n"
   ]
  },
  {
   "cell_type": "code",
   "execution_count": null,
   "metadata": {},
   "outputs": [],
   "source": [
    "n+3"
   ]
  },
  {
   "cell_type": "code",
   "execution_count": null,
   "metadata": {},
   "outputs": [],
   "source": [
    "n = 3\n",
    "m = 10\n",
    "n+m"
   ]
  },
  {
   "cell_type": "code",
   "execution_count": null,
   "metadata": {},
   "outputs": [],
   "source": [
    "nota1 = 5\n",
    "nota2 = 7\n",
    "nota_final = (nota1+nota2)/2\n",
    "nota_final"
   ]
  },
  {
   "cell_type": "code",
   "execution_count": null,
   "metadata": {},
   "outputs": [],
   "source": [
    "nota1 = 5\n",
    "nota2 = 7\n",
    "nota3 = 1\n",
    "nota_final = (nota1+nota2+nota3)/3\n",
    "print(\"su promedio final es: \", nota_final)"
   ]
  },
  {
   "cell_type": "markdown",
   "metadata": {},
   "source": [
    "### Textos"
   ]
  },
  {
   "cell_type": "code",
   "execution_count": null,
   "metadata": {},
   "outputs": [],
   "source": [
    "\"hola mundo\""
   ]
  },
  {
   "cell_type": "code",
   "execution_count": null,
   "metadata": {},
   "outputs": [],
   "source": [
    "'hola mundo'"
   ]
  },
  {
   "cell_type": "code",
   "execution_count": null,
   "metadata": {},
   "outputs": [],
   "source": [
    "'se puede incluir \" \"'"
   ]
  },
  {
   "cell_type": "code",
   "execution_count": null,
   "metadata": {},
   "outputs": [],
   "source": [
    "n = \"hola\"\n",
    "m = \"mundo\"\n",
    "n+m"
   ]
  },
  {
   "cell_type": "code",
   "execution_count": null,
   "metadata": {},
   "outputs": [],
   "source": [
    "\"hola mundo\"\n",
    "\"hola gente\"\n",
    "\"hola a todos\""
   ]
  },
  {
   "cell_type": "code",
   "execution_count": null,
   "metadata": {},
   "outputs": [],
   "source": [
    "print(\"hola mundo\")\n",
    "print(\"hola gente\")\n",
    "print(\"hola a todos\")"
   ]
  },
  {
   "cell_type": "markdown",
   "metadata": {},
   "source": [
    "### Listas"
   ]
  },
  {
   "cell_type": "code",
   "execution_count": null,
   "metadata": {},
   "outputs": [],
   "source": []
  },
  {
   "cell_type": "code",
   "execution_count": null,
   "metadata": {},
   "outputs": [],
   "source": [
    "numeros = [1,2,3,4] # Las listas se crean con []\n",
    "numeros"
   ]
  },
  {
   "cell_type": "code",
   "execution_count": null,
   "metadata": {},
   "outputs": [],
   "source": [
    "datos = [4,\"hola mundo\", -15, 3.14, \"hola gente\"]\n",
    "print(\"Los datos de la lista son: \",datos)"
   ]
  },
  {
   "cell_type": "code",
   "execution_count": null,
   "metadata": {},
   "outputs": [],
   "source": [
    "datos.append(\"hola\") # El comando .append agrega una variable nueva al final de la lista\n",
    "datos"
   ]
  },
  {
   "cell_type": "markdown",
   "metadata": {},
   "source": [
    "### Lectura por teclado"
   ]
  },
  {
   "cell_type": "code",
   "execution_count": null,
   "metadata": {},
   "outputs": [],
   "source": [
    "valor = input(\"Introduce un valor: \")"
   ]
  },
  {
   "cell_type": "code",
   "execution_count": null,
   "metadata": {},
   "outputs": [],
   "source": [
    "valor1 = int(input(\"Introduce un número entero: \"))"
   ]
  },
  {
   "cell_type": "code",
   "execution_count": null,
   "metadata": {},
   "outputs": [],
   "source": [
    "valor2 = float(input(\"Introduce un número flotante: \"))"
   ]
  },
  {
   "cell_type": "markdown",
   "metadata": {},
   "source": [
    "### A continuación crearemos un programa que calcule la edad:"
   ]
  },
  {
   "cell_type": "code",
   "execution_count": null,
   "metadata": {},
   "outputs": [],
   "source": [
    "nombre = input(\"Ingrese Nombre: \")\n",
    "año_nacimiento = int(input(\"Ingrese año de nacimiento: \"))\n",
    "año_actual = int(input(\"Ingrese año actual: \"))\n",
    "edad = año_actual-año_nacimiento\n",
    "print(\"hola\",nombre, \"usted tiene\", edad, \"años\")"
   ]
  },
  {
   "cell_type": "markdown",
   "metadata": {},
   "source": [
    "### Ingresar 4 datos numéricos en una Lista "
   ]
  },
  {
   "cell_type": "code",
   "execution_count": null,
   "metadata": {},
   "outputs": [],
   "source": [
    "print(\"Ingrese un número: \")\n",
    "a=input()\n",
    "print(\"Ingrese un segundo número: \")\n",
    "b=input()\n",
    "print(\"Ingrese un tercer número: \")\n",
    "c=input()\n",
    "print(\"Ingrese un cuarto número: \")\n",
    "d=input()\n",
    "e=[a,b,c,d]\n",
    "print(e,\"Las listas pueden ser modificadas\")"
   ]
  },
  {
   "cell_type": "code",
   "execution_count": null,
   "metadata": {},
   "outputs": [],
   "source": [
    "e.sort()\n",
    "print(e)"
   ]
  },
  {
   "cell_type": "code",
   "execution_count": null,
   "metadata": {},
   "outputs": [],
   "source": [
    "e.reverse()\n",
    "print(e)"
   ]
  },
  {
   "cell_type": "markdown",
   "metadata": {},
   "source": [
    "### Diccionarios"
   ]
  },
  {
   "cell_type": "code",
   "execution_count": null,
   "metadata": {},
   "outputs": [],
   "source": [
    "diccionario = {\"azul\": \"blue\", \"naranjo\":\"orange\", \"yellow\": \"amarillo\"} # se ingresa clave y valor y llevan llaves {}"
   ]
  },
  {
   "cell_type": "code",
   "execution_count": null,
   "metadata": {},
   "outputs": [],
   "source": [
    "print(diccionario[\"azul\"])"
   ]
  },
  {
   "cell_type": "code",
   "execution_count": null,
   "metadata": {},
   "outputs": [],
   "source": [
    "diccionario2 = {\"cristiano\":\"Portugal\", \"Messi\":\"Argentina\", \"alexis\":\"Chile\", \"Neymar\":\"Brasil\"}"
   ]
  },
  {
   "cell_type": "code",
   "execution_count": null,
   "metadata": {},
   "outputs": [],
   "source": [
    "print(diccionario2[\"alexis\"])"
   ]
  },
  {
   "cell_type": "markdown",
   "metadata": {},
   "source": [
    "#### Ejercicio de Diccionario: Cree un diccionario cuya clave sea nombre y el valor sea la edad. Cree 4 y consulte la edad de uno de los nombres."
   ]
  },
  {
   "cell_type": "code",
   "execution_count": null,
   "metadata": {},
   "outputs": [],
   "source": [
    "ejercicio = {\"diego\": 36, \"maria\":20, \"juan\": 50, \"pedro\": 70}"
   ]
  },
  {
   "cell_type": "code",
   "execution_count": null,
   "metadata": {},
   "outputs": [],
   "source": [
    "print(ejercicio[\"diego\"])"
   ]
  },
  {
   "cell_type": "markdown",
   "metadata": {},
   "source": [
    "### If"
   ]
  },
  {
   "cell_type": "markdown",
   "metadata": {},
   "source": [
    "#### El if es una sentencia condicional, este permite condicionar el flujo de un programa en diferentes caminos. Es como darle al computador la capacidad de distinguir varias opciones para actuar de forma distinta"
   ]
  },
  {
   "cell_type": "code",
   "execution_count": null,
   "metadata": {},
   "outputs": [],
   "source": [
    "if True: # Los 2 puntos significa que esta \"indentado\", es decir que está dentro de la condición\n",
    "    print(\"se cumple la condición\")\n",
    "    print(\"También se muestra este print\")"
   ]
  },
  {
   "cell_type": "code",
   "execution_count": null,
   "metadata": {},
   "outputs": [],
   "source": [
    "# Intenta hacer un if cambiando el True a False y comprueba\n",
    "if False: \n",
    "    print(\"se cumple la condición\")\n",
    "    print(\"También se muestra este print\")"
   ]
  },
  {
   "cell_type": "code",
   "execution_count": null,
   "metadata": {},
   "outputs": [],
   "source": [
    "a = 10\n",
    "\n",
    "if a == 2: # Se coloca con 2 signos igual\n",
    "    print(\"a vale 2\")\n",
    "if a == 10:\n",
    "    print(\"a vale 10\") \n",
    "\n",
    "# El resultado solo reconocerá el segundo ya que es el que cumple la condición"
   ]
  },
  {
   "cell_type": "code",
   "execution_count": null,
   "metadata": {},
   "outputs": [],
   "source": [
    "a = 5\n",
    "b = 10\n",
    "\n",
    "if a == 5:\n",
    "    print(\"a vale\", a)\n",
    "if b == 10:\n",
    "        print(\"y b vale\",b)\n",
    "\n"
   ]
  },
  {
   "cell_type": "code",
   "execution_count": null,
   "metadata": {},
   "outputs": [],
   "source": [
    "n = 0\n",
    "\n",
    "if n == 0:\n",
    "    print(\"n vale 0\")\n",
    "else:\n",
    "    print(\"n vale\", n)\n",
    "    \n",
    "# La sentencia else (sino) se encadena a un if para indicar el caso contrario cuando NO se cumple la condición"
   ]
  },
  {
   "cell_type": "code",
   "execution_count": null,
   "metadata": {},
   "outputs": [],
   "source": [
    "n = float(input(\"Introduce un número: \"))\n",
    "\n",
    "if n == 0:\n",
    "    print(\"n vale 0\")\n",
    "elif n >= 5:\n",
    "    print(\"n vale 5\")\n",
    "elif n >=  7:\n",
    "    print(\"n vale 7\")\n",
    "else:\n",
    "    print(\"n vale \",n)\n",
    "\n",
    "# la sentencia elif muestra por pantalla la condición que cumple n"
   ]
  },
  {
   "cell_type": "code",
   "execution_count": null,
   "metadata": {},
   "outputs": [],
   "source": [
    "n = float(input(\"Introduce un número: \"))\n",
    "\n",
    "if n == 0:\n",
    "    print(\"n vale 0\")\n",
    "if n == 5:\n",
    "    print(\"n vale 5\")\n",
    "if n == 7:\n",
    "    print(\"n vale 7\")\n",
    "else:\n",
    "    print(\"n vale \",n)\n",
    "\n",
    "# La sentencia if hace que muestre por pantalla todas las condiciones que cumple n"
   ]
  },
  {
   "cell_type": "markdown",
   "metadata": {},
   "source": [
    "#### Ejercicio: Crear un programa en donde el menú tenga las siguientes opciones: ENTRAR, SALUDAR, SALIR"
   ]
  },
  {
   "cell_type": "code",
   "execution_count": null,
   "metadata": {},
   "outputs": [],
   "source": [
    "comando = input()\n",
    "if comando == \"ENTRAR\":\n",
    "    print(\"Bienvenido al sistema\")\n",
    "elif comando == \"SALUDAR\":\n",
    "    print(\"Hola, como lo estás pasando?\")\n",
    "elif comando == \"SALIR\":\n",
    "    print(\"Saliendo del sistema\")\n",
    "else:\n",
    "    print(\"Este comando no se reconoce\")"
   ]
  },
  {
   "cell_type": "code",
   "execution_count": null,
   "metadata": {},
   "outputs": [],
   "source": [
    "nota = float(input(\"Introduce una nota: \"))\n",
    "\n",
    "if nota >= 6:\n",
    "    print(\"Notable\")\n",
    "elif nota >= 5:\n",
    "    print(\"Aprobado\")\n",
    "else:\n",
    "    print(\"Reprobado\")"
   ]
  },
  {
   "cell_type": "code",
   "execution_count": null,
   "metadata": {},
   "outputs": [],
   "source": [
    "nota = float(input(\"Introduce una nota: \"))\n",
    "\n",
    "if nota >= 6:\n",
    "    print(\"Nota Máxima\")\n",
    "if nota >= 5:\n",
    "    print(\"Aprobado\")\n",
    "else:\n",
    "    print(\"Reprobado\")"
   ]
  },
  {
   "cell_type": "markdown",
   "metadata": {},
   "source": [
    "#### Ejercicio de If: Cree un programa en donde usted pueda introducir una nota y de salida que me diga si la nota es sobresaliente, bien, regular o reprobado"
   ]
  },
  {
   "cell_type": "code",
   "execution_count": null,
   "metadata": {},
   "outputs": [],
   "source": [
    "nota = float(input(\"Introduce una nota: \"))\n",
    "if nota >= 6:\n",
    "    print(\"Sobresaliente\")\n",
    "elif nota >= 5:\n",
    "    print(\"Bien\")\n",
    "elif nota >= 4:\n",
    "    print(\"regular\")\n",
    "else:\n",
    "    print(\"Reprobado\")"
   ]
  },
  {
   "cell_type": "markdown",
   "metadata": {},
   "source": [
    "### Bucle While"
   ]
  },
  {
   "cell_type": "markdown",
   "metadata": {},
   "source": [
    "#### Bucle o Iterar: Es realizar una acción varias veces\n",
    "#### Ejemplo práctico: imagine que tiene una base de datos con un montón de registros y necesita encontrar uno en especial para consultarlo, para encontrar el elemento el computador debe recorrer entre todos los registros de la base de datos y compararlos hasta encontrar el que se busca\n",
    "\n",
    "#### La clave del while es que a partir de una expresión relacional o lógica, de la misma forma que trabaja la sentencia if es capax de repetir un bloque de instrucciones siempre que este devuelva True, nosotros tenemos que encargarnos de cambiar esta condición a False para salir de la iteración o del bucle, sino estaríamos en un bucle infinito"
   ]
  },
  {
   "cell_type": "code",
   "execution_count": null,
   "metadata": {},
   "outputs": [],
   "source": [
    "c = 0\n",
    "\n",
    "while c <=5:\n",
    "    c+=1\n",
    "    print(\"c vale \",c)\n",
    "    \n",
    "# Le estamos pidiendo al bucle while que mientras la c sea mas pequeña que 5, esta me incremente el valor de c en 1"
   ]
  },
  {
   "cell_type": "code",
   "execution_count": null,
   "metadata": {},
   "outputs": [],
   "source": [
    "c = 0\n",
    "\n",
    "while c <=5:\n",
    "    c+=1\n",
    "    print(\"c vale \",c)\n",
    "else:\n",
    "    print(\"Se ha completado toda la iteración y c vale \",c)\n",
    "    \n",
    "# se puede utilizar un else que se cumplirá una vez cuando la condición no se cumpla"
   ]
  },
  {
   "cell_type": "code",
   "execution_count": null,
   "metadata": {},
   "outputs": [],
   "source": [
    "# Sentencia break\n",
    "\n",
    "c = 0\n",
    "while c <= 5:\n",
    "    c+=1\n",
    "    if (c==4):\n",
    "        print(\"Rompemos el bucle cuando c vale\", c)\n",
    "        break\n",
    "    print(\"c vale\",c)\n",
    "else:\n",
    "    print(\"Se ha completado toda la iteración y c vale\", c)"
   ]
  },
  {
   "cell_type": "markdown",
   "metadata": {},
   "source": [
    "#### Ejercicio: Cree un menú interactivo que tenga 3 instrucciones ENTRAR, SALIR y COMANDO DESCONOCIDO"
   ]
  },
  {
   "cell_type": "code",
   "execution_count": null,
   "metadata": {},
   "outputs": [],
   "source": [
    "print(\"Bienvenido\")\n",
    "while(True):\n",
    "    print(\"\"\"Elige una opción: \n",
    "    1) Entrar\n",
    "    2) Salir\"\"\")\n",
    "    opcion = input()\n",
    "    if opcion == \"1\":\n",
    "        print(\"Entrando al sistema\")\n",
    "    elif opcion == \"2\":\n",
    "        print(\"Saliendo del sistema\")\n",
    "        break\n",
    "    else:\n",
    "        print(\"Comando desconocido\")\n"
   ]
  },
  {
   "cell_type": "markdown",
   "metadata": {},
   "source": [
    "#### Ejercicio: Cree un menú interactivo que SALUDE, SUME 2 NÚMEROS y SALIR "
   ]
  },
  {
   "cell_type": "code",
   "execution_count": null,
   "metadata": {},
   "outputs": [],
   "source": [
    "print(\"Bienvenido al menú interactivo\")\n",
    "while(True):\n",
    "    print(\"\"\"¿Qué quieres hacer? Escribe una opción\n",
    "    1) Saludar\n",
    "    2) Sumar dos números\n",
    "    3) Salir\"\"\")\n",
    "    opcion = input()\n",
    "    if opcion == '1':\n",
    "        print(\"Hola, espero que te lo estés pasando bien\")\n",
    "    elif opcion == '2':\n",
    "        n1 = float(input(\"Introduce el primer número: \"))\n",
    "        n2 = float(input(\"Introduce el segundo número: \"))\n",
    "        print(\"El resultado de la suma es: \",n1+n2)\n",
    "    elif opcion =='3':\n",
    "        print(\"¡Hasta luego! Ha sido un placer ayudarte\")\n",
    "        break\n",
    "    else:\n",
    "        print(\"Comando desconocido, vuelve a intentarlo\")\n",
    "        "
   ]
  },
  {
   "cell_type": "markdown",
   "metadata": {},
   "source": [
    "### Bucle for"
   ]
  },
  {
   "cell_type": "code",
   "execution_count": null,
   "metadata": {},
   "outputs": [],
   "source": [
    "for x in range(0,5):\n",
    "    print(\"el numero es: \",x)"
   ]
  },
  {
   "cell_type": "code",
   "execution_count": null,
   "metadata": {},
   "outputs": [],
   "source": [
    "for x in \"hola\":\n",
    "    print(x)"
   ]
  },
  {
   "cell_type": "code",
   "execution_count": null,
   "metadata": {},
   "outputs": [],
   "source": [
    "numeros = [1,2,3,4,5,6,7]\n",
    "\n",
    "for numero in numeros:\n",
    "    print(numero)"
   ]
  },
  {
   "cell_type": "code",
   "execution_count": null,
   "metadata": {},
   "outputs": [],
   "source": [
    "cadena = \"Hola mundo\"\n",
    "\n",
    "for caracter in cadena:\n",
    "    print(caracter)"
   ]
  },
  {
   "cell_type": "markdown",
   "metadata": {},
   "source": [
    "### EJERCICIO FINAL: CREE UN CAJERO BANCARIO CON LO SIGUIENTE:\n",
    "### 1) Cree una variable con el saldo\n",
    "### 2) Cree un menú que ingrese al sistema\n",
    "### 3) Consulte el saldo disponible\n",
    "### 4) realice un giro, si el saldo es insuficiente cree alerta\n",
    "### 5) Salga del sistema"
   ]
  },
  {
   "cell_type": "code",
   "execution_count": null,
   "metadata": {},
   "outputs": [],
   "source": []
  },
  {
   "cell_type": "code",
   "execution_count": null,
   "metadata": {},
   "outputs": [],
   "source": []
  },
  {
   "cell_type": "code",
   "execution_count": null,
   "metadata": {},
   "outputs": [],
   "source": []
  },
  {
   "cell_type": "code",
   "execution_count": null,
   "metadata": {},
   "outputs": [],
   "source": []
  }
 ],
 "metadata": {
  "kernelspec": {
   "display_name": "Python 3 (ipykernel)",
   "language": "python",
   "name": "python3"
  },
  "language_info": {
   "codemirror_mode": {
    "name": "ipython",
    "version": 3
   },
   "file_extension": ".py",
   "mimetype": "text/x-python",
   "name": "python",
   "nbconvert_exporter": "python",
   "pygments_lexer": "ipython3",
   "version": "3.11.4"
  }
 },
 "nbformat": 4,
 "nbformat_minor": 4
}
